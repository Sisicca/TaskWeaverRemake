{
 "cells": [
  {
   "cell_type": "code",
   "execution_count": null,
   "id": "d8183b8d",
   "metadata": {},
   "outputs": [
    {
     "name": "stdout",
     "output_type": "stream",
     "text": [
      "      SYXH               卡号   姓名    科室   年龄 性别        挂号日期         主诉  \\\n",
      "0  7525041  310113011060377  范仕群  发热门诊  54岁  女  2024-01-01      发热1天。   \n",
      "1  7525043  310113011095918  张智敏  发热门诊  28岁  女  2024-01-01      发热3天。   \n",
      "2  7525047  310113011084296  王奕辰   急儿科   6岁  男  2024-01-01  咳嗽3天，发热1天   \n",
      "3  7525050  310113011095919  潘海涛  发热门诊  25岁  男  2024-01-01      发热2天。   \n",
      "4  7525051  310113011095920  田若羲  发热门诊  28岁  女  2024-01-01      发热1天。   \n",
      "\n",
      "                                                 现病史  \\\n",
      "0  患者1天前出现发热，最高体温39 ℃，伴咽痛、流涕、乏力，有咳嗽咳痰，无胸闷胸痛，无恶心呕吐...   \n",
      "1  患者3天前出现发热，最高体温38.3 ℃，伴咽痛、乏力，有咳嗽咳痰，伴左侧腋下痛，无胸闷胸痛...   \n",
      "2  咳嗽3天，发热1天。无气促喘息，无呼吸困难。无恶心、呕吐，无腹痛、腹泻，无尿频、尿急、尿痛。...   \n",
      "3  患者2天前出现发热，最高体温39 ℃，伴咽痛、流涕、乏力，有咳嗽咳痰，无胸闷胸痛，无恶心呕吐...   \n",
      "4  患者1天前出现发热，最高体温38.7 ℃，伴流涕、乏力，有咳嗽咳痰，无胸闷胸痛，无恶心呕吐，...   \n",
      "\n",
      "                                                  查体  \n",
      "0  38.1℃  神清，气平，颈软，HR：80次/分，双肺呼吸音清，无啰音，腹平软，无压痛，无反...  \n",
      "1  37.2℃  神清，气平，颈软，HR：80次/分，双肺呼吸音清，无啰音，腹平软，无压痛，无反...  \n",
      "2  39.0℃，一般情况可，精神可，无气促及紫绀，双手心及双足底和肛周均无皮疹。咽稍充血，双侧扁...  \n",
      "3  36.5℃  神清，气平，颈软，HR：80次/分，双肺呼吸音清，无啰音，腹平软，无压痛，无反...  \n",
      "4      神清，气平，颈软，HR：80次/分，双肺呼吸音清，无啰音，腹平软，无压痛，无反跳痛及肌卫。"
     ]
    }
   ],
   "source": [
    "# 首先，导入pandas库用于处理Excel文件\n",
    "import pandas as pd\n",
    "\n",
    "# 定义文件路径\n",
    "file_path = 'src/workspaces/annotation_ili/症状监测（吴淞医院）初筛版20250106.xlsx'\n",
    "\n",
    "# 读取Excel文件\n",
    "try:\n",
    "    data = pd.read_excel(file_path)\n",
    "    # 查看数据的前几行以了解结构，尤其是'现病史'字段\n",
    "    preview = data.head()\n",
    "    print(preview)\n",
    "except Exception as e:\n",
    "    print(f'Error reading the Excel file: {e}')"
   ]
  },
  {
   "cell_type": "code",
   "execution_count": null,
   "id": "b52cbbc1",
   "metadata": {},
   "outputs": [
    {
     "ename": "TypeError",
     "evalue": "expected string or bytes-like object, got 'float'",
     "output_type": "error",
     "traceback": [
      "\u001b[0;31m---------------------------------------------------------------------------\u001b[0m",
      "\u001b[0;31mTypeError\u001b[0m                                 Traceback (most recent call last)",
      "Cell \u001b[0;32mIn[2], line 28\u001b[0m\n\u001b[1;32m     25\u001b[0m data \u001b[38;5;241m=\u001b[39m pd\u001b[38;5;241m.\u001b[39mread_excel(file_path)\n\u001b[1;32m     27\u001b[0m \u001b[38;5;66;03m# 标注数据\u001b[39;00m\n\u001b[0;32m---> 28\u001b[0m marked_data \u001b[38;5;241m=\u001b[39m \u001b[43mmark_high_fever\u001b[49m\u001b[43m(\u001b[49m\u001b[43mdata\u001b[49m\u001b[43m)\u001b[49m\n\u001b[1;32m     30\u001b[0m \u001b[38;5;66;03m# 输出标注结果的前几行\u001b[39;00m\n\u001b[1;32m     31\u001b[0m marked_data\u001b[38;5;241m.\u001b[39mhead()\n",
      "Cell \u001b[0;32mIn[2], line 13\u001b[0m, in \u001b[0;36mmark_high_fever\u001b[0;34m(data)\u001b[0m\n\u001b[1;32m     10\u001b[0m \u001b[38;5;66;03m# 遍历每一条记录中的现病史字段\u001b[39;00m\n\u001b[1;32m     11\u001b[0m \u001b[38;5;28;01mfor\u001b[39;00m history \u001b[38;5;129;01min\u001b[39;00m data[\u001b[38;5;124m'\u001b[39m\u001b[38;5;124m现病史\u001b[39m\u001b[38;5;124m'\u001b[39m]:\n\u001b[1;32m     12\u001b[0m     \u001b[38;5;66;03m# 使用正则表达式找出所有的体温信息\u001b[39;00m\n\u001b[0;32m---> 13\u001b[0m     temperatures \u001b[38;5;241m=\u001b[39m \u001b[43mre\u001b[49m\u001b[38;5;241;43m.\u001b[39;49m\u001b[43mfindall\u001b[49m\u001b[43m(\u001b[49m\u001b[38;5;124;43mr\u001b[39;49m\u001b[38;5;124;43m\"\u001b[39;49m\u001b[38;5;124;43m\\\u001b[39;49m\u001b[38;5;124;43mb(?:3[0-9]|[4-9][0-9])\u001b[39;49m\u001b[38;5;124;43m\\\u001b[39;49m\u001b[38;5;124;43m.?\u001b[39;49m\u001b[38;5;124;43m\\\u001b[39;49m\u001b[38;5;124;43md\u001b[39;49m\u001b[38;5;124;43m{\u001b[39;49m\u001b[38;5;124;43m0,1}\u001b[39;49m\u001b[38;5;124;43m\\\u001b[39;49m\u001b[38;5;124;43mb\u001b[39;49m\u001b[38;5;124;43m\"\u001b[39;49m\u001b[43m,\u001b[49m\u001b[43m \u001b[49m\u001b[43mhistory\u001b[49m\u001b[43m)\u001b[49m\n\u001b[1;32m     14\u001b[0m     \u001b[38;5;66;03m# 转换为浮点数后检查是否有超过39的温度\u001b[39;00m\n\u001b[1;32m     15\u001b[0m     has_high_fever \u001b[38;5;241m=\u001b[39m \u001b[38;5;28many\u001b[39m(\u001b[38;5;28mfloat\u001b[39m(temp) \u001b[38;5;241m>\u001b[39m \u001b[38;5;241m39\u001b[39m \u001b[38;5;28;01mfor\u001b[39;00m temp \u001b[38;5;129;01min\u001b[39;00m temperatures)\n",
      "File \u001b[0;32m/Library/Frameworks/Python.framework/Versions/3.11/lib/python3.11/re/__init__.py:216\u001b[0m, in \u001b[0;36mfindall\u001b[0;34m(pattern, string, flags)\u001b[0m\n\u001b[1;32m    208\u001b[0m \u001b[38;5;28;01mdef\u001b[39;00m\u001b[38;5;250m \u001b[39m\u001b[38;5;21mfindall\u001b[39m(pattern, string, flags\u001b[38;5;241m=\u001b[39m\u001b[38;5;241m0\u001b[39m):\n\u001b[1;32m    209\u001b[0m \u001b[38;5;250m    \u001b[39m\u001b[38;5;124;03m\"\"\"Return a list of all non-overlapping matches in the string.\u001b[39;00m\n\u001b[1;32m    210\u001b[0m \n\u001b[1;32m    211\u001b[0m \u001b[38;5;124;03m    If one or more capturing groups are present in the pattern, return\u001b[39;00m\n\u001b[0;32m   (...)\u001b[0m\n\u001b[1;32m    214\u001b[0m \n\u001b[1;32m    215\u001b[0m \u001b[38;5;124;03m    Empty matches are included in the result.\"\"\"\u001b[39;00m\n\u001b[0;32m--> 216\u001b[0m     \u001b[38;5;28;01mreturn\u001b[39;00m _compile(pattern, flags)\u001b[38;5;241m.\u001b[39mfindall(string)\n",
      "\u001b[0;31mTypeError\u001b[0m: expected string or bytes-like object, got 'float'"
     ]
    }
   ],
   "source": [
    "# 导入必要的库\n",
    "import pandas as pd\n",
    "import re\n",
    "\n",
    "# 定义一个函数来标注体温超过39度的记录\n",
    "def mark_high_fever(data):\n",
    "    # 用于存储标注结果的列表\n",
    "    high_fever_flags = []\n",
    "    \n",
    "    # 遍历每一条记录中的现病史字段\n",
    "    for history in data['现病史']:\n",
    "        # 使用正则表达式找出所有的体温信息\n",
    "        temperatures = re.findall(r\"\\b(?:3[0-9]|[4-9][0-9])\\.?\\d{0,1}\\b\", history)\n",
    "        # 转换为浮点数后检查是否有超过39的温度\n",
    "        has_high_fever = any(float(temp) > 39 for temp in temperatures)\n",
    "        # 根据判断结果添加标注\n",
    "        high_fever_flags.append(has_high_fever)\n",
    "    \n",
    "    # 将标注结果添加到数据框中\n",
    "    data['体温超过39度'] = high_fever_flags\n",
    "    return data\n",
    "\n",
    "# 读取Excel文件\n",
    "file_path = 'src/workspaces/annotation_ili/症状监测（吴淞医院）初筛版20250106.xlsx'\n",
    "data = pd.read_excel(file_path)\n",
    "\n",
    "# 标注数据\n",
    "marked_data = mark_high_fever(data)\n",
    "\n",
    "# 输出标注结果的前几行\n",
    "marked_data.head()"
   ]
  },
  {
   "cell_type": "code",
   "execution_count": null,
   "id": "d9b49dce",
   "metadata": {},
   "outputs": [
    {
     "data": {
      "text/plain": [
       "      SYXH               卡号   姓名    科室   年龄 性别        挂号日期         主诉  \\\n",
       "0  7525041  310113011060377  范仕群  发热门诊  54岁  女  2024-01-01      发热1天。   \n",
       "1  7525043  310113011095918  张智敏  发热门诊  28岁  女  2024-01-01      发热3天。   \n",
       "2  7525047  310113011084296  王奕辰   急儿科   6岁  男  2024-01-01  咳嗽3天，发热1天   \n",
       "3  7525050  310113011095919  潘海涛  发热门诊  25岁  男  2024-01-01      发热2天。   \n",
       "4  7525051  310113011095920  田若羲  发热门诊  28岁  女  2024-01-01      发热1天。   \n",
       "\n",
       "                                                 现病史  \\\n",
       "0  患者1天前出现发热，最高体温39 ℃，伴咽痛、流涕、乏力，有咳嗽咳痰，无胸闷胸痛，无恶心呕吐...   \n",
       "1  患者3天前出现发热，最高体温38.3 ℃，伴咽痛、乏力，有咳嗽咳痰，伴左侧腋下痛，无胸闷胸痛...   \n",
       "2  咳嗽3天，发热1天。无气促喘息，无呼吸困难。无恶心、呕吐，无腹痛、腹泻，无尿频、尿急、尿痛。...   \n",
       "3  患者2天前出现发热，最高体温39 ℃，伴咽痛、流涕、乏力，有咳嗽咳痰，无胸闷胸痛，无恶心呕吐...   \n",
       "4  患者1天前出现发热，最高体温38.7 ℃，伴流涕、乏力，有咳嗽咳痰，无胸闷胸痛，无恶心呕吐，...   \n",
       "\n",
       "                                                  查体  体温超过39度  \n",
       "0  38.1℃  神清，气平，颈软，HR：80次/分，双肺呼吸音清，无啰音，腹平软，无压痛，无反...    False  \n",
       "1  37.2℃  神清，气平，颈软，HR：80次/分，双肺呼吸音清，无啰音，腹平软，无压痛，无反...    False  \n",
       "2  39.0℃，一般情况可，精神可，无气促及紫绀，双手心及双足底和肛周均无皮疹。咽稍充血，双侧扁...    False  \n",
       "3  36.5℃  神清，气平，颈软，HR：80次/分，双肺呼吸音清，无啰音，腹平软，无压痛，无反...    False  \n",
       "4      神清，气平，颈软，HR：80次/分，双肺呼吸音清，无啰音，腹平软，无压痛，无反跳痛及肌卫。    False  "
      ]
     },
     "execution_count": null,
     "metadata": {},
     "output_type": "execute_result"
    }
   ],
   "source": [
    "# 导入必要的库\n",
    "import pandas as pd\n",
    "import re\n",
    "\n",
    "# 定义一个函数来标注体温超过39度的记录\n",
    "def mark_high_fever(data):\n",
    "    # 用于存储标注结果的列表\n",
    "    high_fever_flags = []\n",
    "    \n",
    "    # 遍历每一条记录中的现病史字段\n",
    "    for history in data['现病史']:\n",
    "        # 确保history是字符串类型\n",
    "        if not isinstance(history, str):\n",
    "            high_fever_flags.append(False)\n",
    "            continue\n",
    "        \n",
    "        # 使用正则表达式找出所有的体温信息\n",
    "        temperatures = re.findall(r\"\\b(?:3[0-9]|[4-9][0-9])\\.?\\d{0,1}\\b\", history)\n",
    "        # 转换为浮点数后检查是否有超过39的温度\n",
    "        has_high_fever = any(float(temp) > 39 for temp in temperatures if temp)\n",
    "        # 根据判断结果添加标注\n",
    "        high_fever_flags.append(has_high_fever)\n",
    "    \n",
    "    # 将标注结果添加到数据框中\n",
    "    data['体温超过39度'] = high_fever_flags\n",
    "    return data\n",
    "\n",
    "# 读取Excel文件\n",
    "file_path = 'src/workspaces/annotation_ili/症状监测（吴淞医院）初筛版20250106.xlsx'\n",
    "data = pd.read_excel(file_path)\n",
    "\n",
    "# 标注数据\n",
    "marked_data = mark_high_fever(data)\n",
    "\n",
    "# 输出标注结果的前几行\n",
    "marked_data.head()"
   ]
  },
  {
   "cell_type": "code",
   "execution_count": null,
   "id": "71411a40",
   "metadata": {},
   "outputs": [
    {
     "data": {
      "text/plain": [
       "np.int64(67)"
      ]
     },
     "execution_count": null,
     "metadata": {},
     "output_type": "execute_result"
    }
   ],
   "source": [
    "# 统计标注出的体温超过39度的记录数量\n",
    "high_fever_count = marked_data['体温超过39度'].sum()\n",
    "\n",
    "# 输出统计结果\n",
    "high_fever_count"
   ]
  }
 ],
 "metadata": {},
 "nbformat": 4,
 "nbformat_minor": 5
}
