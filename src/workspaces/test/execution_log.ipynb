{
 "cells": [
  {
   "cell_type": "code",
   "execution_count": null,
   "id": "2528226a",
   "metadata": {},
   "outputs": [
    {
     "name": "stdout",
     "output_type": "stream",
     "text": [
      "所有txt文件已成功覆盖。"
     ]
    }
   ],
   "source": [
    "import os\n",
    "\n",
    "# 工作区路径\n",
    "workspace_path = 'src/workspaces/test'\n",
    "\n",
    "# 列出工作区中的所有文件\n",
    "files = ['test2.txt', 'test3.txt', 'base/test.txt']\n",
    "\n",
    "# 读取README.md文件的内容\n",
    "with open(os.path.join(workspace_path, 'README.md'), 'r', encoding='utf-8') as readme_file:\n",
    "    readme_content = readme_file.read()\n",
    "\n",
    "# 将README.md文件的内容写入所有txt文件中\n",
    "for file_name in files:\n",
    "    file_path = os.path.join(workspace_path, file_name)\n",
    "    with open(file_path, 'w', encoding='utf-8') as txt_file:\n",
    "        txt_file.write(readme_content)\n",
    "\n",
    "print(\"所有txt文件已成功覆盖。\")"
   ]
  }
 ],
 "metadata": {},
 "nbformat": 4,
 "nbformat_minor": 5
}
