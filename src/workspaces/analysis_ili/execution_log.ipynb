{
 "cells": [
  {
   "cell_type": "code",
   "execution_count": null,
   "id": "2715b35a",
   "metadata": {},
   "outputs": [
    {
     "name": "stderr",
     "output_type": "stream",
     "text": [
      "/var/folders/m3/3rbsq8d14yd76_tjdwlr5rj40000gn/T/ipykernel_77865/2157108640.py:21: UserWarning: Glyph 24615 (\\N{CJK UNIFIED IDEOGRAPH-6027}) missing from font(s) DejaVu Sans.\n",
      "  plt.savefig('src/workspaces/analysis_ili/sex_distribution_pie_chart.png')\n",
      "/var/folders/m3/3rbsq8d14yd76_tjdwlr5rj40000gn/T/ipykernel_77865/2157108640.py:21: UserWarning: Glyph 21035 (\\N{CJK UNIFIED IDEOGRAPH-522B}) missing from font(s) DejaVu Sans.\n",
      "  plt.savefig('src/workspaces/analysis_ili/sex_distribution_pie_chart.png')\n",
      "/var/folders/m3/3rbsq8d14yd76_tjdwlr5rj40000gn/T/ipykernel_77865/2157108640.py:21: UserWarning: Glyph 21344 (\\N{CJK UNIFIED IDEOGRAPH-5360}) missing from font(s) DejaVu Sans.\n",
      "  plt.savefig('src/workspaces/analysis_ili/sex_distribution_pie_chart.png')\n",
      "/var/folders/m3/3rbsq8d14yd76_tjdwlr5rj40000gn/T/ipykernel_77865/2157108640.py:21: UserWarning: Glyph 27604 (\\N{CJK UNIFIED IDEOGRAPH-6BD4}) missing from font(s) DejaVu Sans.\n",
      "  plt.savefig('src/workspaces/analysis_ili/sex_distribution_pie_chart.png')\n",
      "/var/folders/m3/3rbsq8d14yd76_tjdwlr5rj40000gn/T/ipykernel_77865/2157108640.py:21: UserWarning: Glyph 22899 (\\N{CJK UNIFIED IDEOGRAPH-5973}) missing from font(s) DejaVu Sans.\n",
      "  plt.savefig('src/workspaces/analysis_ili/sex_distribution_pie_chart.png')\n",
      "/var/folders/m3/3rbsq8d14yd76_tjdwlr5rj40000gn/T/ipykernel_77865/2157108640.py:21: UserWarning: Glyph 30007 (\\N{CJK UNIFIED IDEOGRAPH-7537}) missing from font(s) DejaVu Sans.\n",
      "  plt.savefig('src/workspaces/analysis_ili/sex_distribution_pie_chart.png')"
     ]
    },
    {
     "name": "stdout",
     "output_type": "stream",
     "text": [
      "女性病例数量: 123"
     ]
    }
   ],
   "source": [
    "import pandas as pd\n",
    "import matplotlib.pyplot as plt\n",
    "\n",
    "# 读取Excel文件\n",
    "file_path = 'src/workspaces/analysis_ili/吴淞.xlsx'\n",
    "data = pd.read_excel(file_path)\n",
    "\n",
    "# 假设数据集中有一列名为'性别'\n",
    "# 统计女性病例数量\n",
    "female_count = data[data['性别'] == '女'].shape[0]\n",
    "\n",
    "# 统计各性别的病例数量\n",
    "sex_counts = data['性别'].value_counts()\n",
    "\n",
    "# 绘制性别占比饼图\n",
    "plt.figure(figsize=(8, 8))\n",
    "plt.pie(sex_counts, labels=sex_counts.index, autopct='%1.1f%%', startangle=90)\n",
    "plt.title('性别占比')\n",
    "\n",
    "# 保存图表到工作区\n",
    "plt.savefig('src/workspaces/analysis_ili/sex_distribution_pie_chart.png')\n",
    "plt.close()\n",
    "\n",
    "# 打印女性病例数量\n",
    "print(f\"女性病例数量: {female_count}\")"
   ]
  }
 ],
 "metadata": {
  "language_info": {
   "name": "python"
  }
 },
 "nbformat": 4,
 "nbformat_minor": 5
}
