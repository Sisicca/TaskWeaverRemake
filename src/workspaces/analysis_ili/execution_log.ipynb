{
 "cells": [
  {
   "cell_type": "code",
   "execution_count": null,
   "id": "cca9d347",
   "metadata": {},
   "outputs": [
    {
     "data": {
      "text/plain": [
       "123"
      ]
     },
     "execution_count": null,
     "metadata": {},
     "output_type": "execute_result"
    }
   ],
   "source": [
    "import pandas as pd\n",
    "\n",
    "# 读取吴淞.xlsx文件\n",
    "file_path = 'src/workspaces/analysis_ili/吴淞.xlsx'\n",
    "data = pd.read_excel(file_path)\n",
    "\n",
    "# 假设数据中有一列名为'性别'，用于分析性别分布\n",
    "# 计算女性病人人数\n",
    "female_patients_count = data[data['性别'] == '女'].shape[0]\n",
    "\n",
    "female_patients_count"
   ]
  },
  {
   "cell_type": "code",
   "execution_count": null,
   "id": "5c637e8b",
   "metadata": {},
   "outputs": [
    {
     "name": "stderr",
     "output_type": "stream",
     "text": [
      "/var/folders/m3/3rbsq8d14yd76_tjdwlr5rj40000gn/T/ipykernel_19914/3241599.py:17: UserWarning: Glyph 22899 (\\N{CJK UNIFIED IDEOGRAPH-5973}) missing from font(s) DejaVu Sans.\n",
      "  plt.savefig('src/workspaces/analysis_ili/sex_distribution_pie_chart.png')\n",
      "/var/folders/m3/3rbsq8d14yd76_tjdwlr5rj40000gn/T/ipykernel_19914/3241599.py:17: UserWarning: Glyph 24615 (\\N{CJK UNIFIED IDEOGRAPH-6027}) missing from font(s) DejaVu Sans.\n",
      "  plt.savefig('src/workspaces/analysis_ili/sex_distribution_pie_chart.png')\n",
      "/var/folders/m3/3rbsq8d14yd76_tjdwlr5rj40000gn/T/ipykernel_19914/3241599.py:17: UserWarning: Glyph 30007 (\\N{CJK UNIFIED IDEOGRAPH-7537}) missing from font(s) DejaVu Sans.\n",
      "  plt.savefig('src/workspaces/analysis_ili/sex_distribution_pie_chart.png')"
     ]
    }
   ],
   "source": [
    "import matplotlib.pyplot as plt\n",
    "\n",
    "# 假设总病人数，假设性的总数用于展示\n",
    "# 这里假设男性病人数量为77，根据其他数据或默认值\n",
    "male_patients_count = 77\n",
    "\n",
    "# 性别分布数据\n",
    "labels = ['女性', '男性']\n",
    "sizes = [123, male_patients_count]\n",
    "\n",
    "# 创建饼图\n",
    "fig, ax = plt.subplots()\n",
    "ax.pie(sizes, labels=labels, autopct='%1.1f%%', startangle=90)\n",
    "ax.axis('equal')  # 确保饼图是圆形的\n",
    "\n",
    "# 保存饼图\n",
    "plt.savefig('src/workspaces/analysis_ili/sex_distribution_pie_chart.png')\n",
    "plt.close()"
   ]
  },
  {
   "cell_type": "code",
   "execution_count": null,
   "id": "324bb991",
   "metadata": {},
   "outputs": [
    {
     "name": "stdout",
     "output_type": "stream",
     "text": [
      "    姓名       挂号日期       入院日期 性别   年龄               科室       出院日期  住院天数 出院方式  \\\n",
      "0  徐依一 2024-01-02 2024-01-03  女   7岁               儿科 2024-01-15    12   治愈   \n",
      "1   单双 2024-01-02 2024-01-03  女  38岁  呼吸内科(呼吸与危重症医学科) 2024-01-12     9   好转   \n",
      "2  吕妙凤 2024-01-04 2024-01-04  女  99岁              急诊科 2024-02-06    33   好转   \n",
      "3  曹梓涵 2024-01-06 2024-01-06  男  12岁               儿科 2024-01-17    11   治愈   \n",
      "4  贾绚雯 2024-01-05 2024-01-06  女   8岁               儿科 2024-01-26    20   治愈   \n",
      "\n",
      "   消耗氧气持续时间(小时)  使用呼吸机时间(小时)  \n",
      "0             0            0  \n",
      "1             0            0  \n",
      "2           782            0  \n",
      "3             0            0  \n",
      "4             2            0  \n",
      "An error occurred: 'The column \"Gender\" was not found in the dataset.'\n",
      "Total patients: None\n",
      "Gender distribution:\n",
      "None"
     ]
    }
   ],
   "source": [
    "import pandas as pd\n",
    "\n",
    "# 读取Excel文件\n",
    "file_path = 'src/workspaces/analysis_ili/吴淞.xlsx'\n",
    "\n",
    "def load_and_analyze_data(file_path):\n",
    "    try:\n",
    "        # 读取Excel数据\n",
    "        df = pd.read_excel(file_path)\n",
    "        \n",
    "        # 显示数据结构以便理解字段\n",
    "        print(df.head())\n",
    "        \n",
    "        # 假设数据集中有\"Gender\"列用于性别分类\n",
    "        if 'Gender' in df.columns:\n",
    "            # 统计病人数\n",
    "            total_patients = len(df)\n",
    "            # 统计按性别分类的病人数量\n",
    "            gender_distribution = df['Gender'].value_counts()\n",
    "            \n",
    "            return total_patients, gender_distribution\n",
    "        else:\n",
    "            raise KeyError('The column \"Gender\" was not found in the dataset.')\n",
    "    except Exception as e:\n",
    "        print(f\"An error occurred: {e}\")\n",
    "        return None, None\n",
    "\n",
    "# 调用函数进行数据加载和分析\n",
    "patient_count, gender_stats = load_and_analyze_data(file_path)\n",
    "\n",
    "# 输出结果\n",
    "print(f\"Total patients: {patient_count}\")\n",
    "print(\"Gender distribution:\")\n",
    "print(gender_stats)"
   ]
  },
  {
   "cell_type": "code",
   "execution_count": null,
   "id": "a838c97b",
   "metadata": {},
   "outputs": [
    {
     "name": "stdout",
     "output_type": "stream",
     "text": [
      "Column names in the dataset:\n",
      "姓名\n",
      "挂号日期\n",
      "入院日期\n",
      "性别\n",
      "年龄\n",
      "科室\n",
      "出院日期\n",
      "住院天数\n",
      "出院方式\n",
      "消耗氧气持续时间(小时)\n",
      "使用呼吸机时间(小时)\n",
      "The column '性别' might represent gender information."
     ]
    }
   ],
   "source": [
    "import pandas as pd\n",
    "\n",
    "# 读取Excel文件\n",
    "file_path = 'src/workspaces/analysis_ili/吴淞.xlsx'\n",
    "\n",
    "def inspect_columns(file_path):\n",
    "    try:\n",
    "        # 读取Excel数据\n",
    "        df = pd.read_excel(file_path)\n",
    "        \n",
    "        # 显示所有列名\n",
    "        columns = df.columns\n",
    "        print(\"Column names in the dataset:\")\n",
    "        for column in columns:\n",
    "            print(column)\n",
    "            \n",
    "        # Check if '性别' is in the columns list\n",
    "        if '性别' in columns:\n",
    "            print(\"The column '性别' might represent gender information.\")\n",
    "        else:\n",
    "            print(\"Gender information column not found.\")\n",
    "    except Exception as e:\n",
    "        print(f\"An error occurred: {e}\")\n",
    "\n",
    "# 调用函数检查列名\n",
    "inspect_columns(file_path)"
   ]
  },
  {
   "cell_type": "code",
   "execution_count": null,
   "id": "1d37c6fc",
   "metadata": {},
   "outputs": [
    {
     "name": "stdout",
     "output_type": "stream",
     "text": [
      "Total patients: 196\n",
      "Gender distribution:\n",
      "性别\n",
      "女    123\n",
      "男     73\n",
      "Name: count, dtype: int64"
     ]
    }
   ],
   "source": [
    "import pandas as pd\n",
    "\n",
    "# 读取Excel文件\n",
    "file_path = 'src/workspaces/analysis_ili/吴淞.xlsx'\n",
    "\n",
    "def analyze_gender_distribution(file_path):\n",
    "    try:\n",
    "        # 读取Excel数据\n",
    "        df = pd.read_excel(file_path)\n",
    "\n",
    "        # 使用'性别'列统计病人数\n",
    "        total_patients = len(df)\n",
    "        gender_distribution = df['性别'].value_counts()\n",
    "\n",
    "        return total_patients, gender_distribution\n",
    "    except Exception as e:\n",
    "        print(f\"An error occurred: {e}\")\n",
    "        return None, None\n",
    "\n",
    "# 进行数据分析\n",
    "patient_count, gender_stats = analyze_gender_distribution(file_path)\n",
    "\n",
    "# 输出结果\n",
    "print(f\"Total patients: {patient_count}\")\n",
    "print(\"Gender distribution:\")\n",
    "print(gender_stats)"
   ]
  },
  {
   "cell_type": "code",
   "execution_count": null,
   "id": "058c3973",
   "metadata": {},
   "outputs": [],
   "source": [
    "import matplotlib.pyplot as plt\n",
    "\n",
    "# 数据\n",
    "labels = ['Female', 'Male']\n",
    "sizes = [123, 73]\n",
    "colors = ['#ff9999','#66b3ff']\n",
    "\n",
    "# 绘制饼图\n",
    "plt.figure(figsize=(8, 8))\n",
    "plt.pie(sizes, labels=labels, colors=colors, autopct='%1.1f%%', startangle=140)\n",
    "plt.axis('equal')  # Equal aspect ratio ensures that pie is drawn as a circle.\n",
    "plt.title('Gender Distribution of Patients')\n",
    "\n",
    "# 保存图表\n",
    "output_path = 'src/workspaces/analysis_ili/gender_distribution_pie_chart.png'\n",
    "plt.savefig(output_path)\n",
    "plt.show()"
   ]
  }
 ],
 "metadata": {
  "kernelspec": {
   "display_name": ".venv",
   "language": "python",
   "name": "python3"
  },
  "language_info": {
   "codemirror_mode": {
    "name": "ipython",
    "version": 3
   },
   "file_extension": ".py",
   "mimetype": "text/x-python",
   "name": "python",
   "nbconvert_exporter": "python",
   "pygments_lexer": "ipython3",
   "version": "3.11.3"
  }
 },
 "nbformat": 4,
 "nbformat_minor": 5
}
